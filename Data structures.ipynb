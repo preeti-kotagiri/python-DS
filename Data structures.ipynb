{
 "cells": [
  {
   "cell_type": "markdown",
   "metadata": {},
   "source": [
    "## Searching :\n",
    "1. Lienar search\n",
    "2. Binary search"
   ]
  },
  {
   "cell_type": "code",
   "execution_count": 12,
   "metadata": {},
   "outputs": [
    {
     "name": "stdout",
     "output_type": "stream",
     "text": [
      "enter key value100\n",
      "element not found\n"
     ]
    }
   ],
   "source": [
    "#Linear search-->O(n)\n",
    "list1 = [23,34,45,56,67]\n",
    "key = int(input(\"enter key value\"))\n",
    "flag = 0\n",
    "for i in list1:\n",
    "    if key == i:\n",
    "        flag = 1\n",
    "        break\n",
    "        \n",
    "if flag == 1:\n",
    "    print(\"element found at\",list1.index(key)+1)\n",
    "else:\n",
    "    print(\"element not found\")"
   ]
  },
  {
   "cell_type": "code",
   "execution_count": 20,
   "metadata": {},
   "outputs": [
    {
     "name": "stdout",
     "output_type": "stream",
     "text": [
      "enter key value45\n",
      "element found at position 3\n"
     ]
    }
   ],
   "source": [
    "#Binary search-->O(log n)-->sorted\n",
    "#middle\n",
    "list1 = [23,34,45,56,67]\n",
    "key = int(input(\"enter key value\"))\n",
    "list1.sort()\n",
    "if len(list1)%2==0\n",
    "    m = len(list1)//2-1\n",
    "else:\n",
    "    m = len(list1)//2\n",
    "    \n",
    "flag = 0\n",
    "if key == list1[m]:\n",
    "    flag = 1\n",
    "    \n",
    "elif key<list1[m]:\n",
    "    for i in range(0,m):\n",
    "        if key == list1[i]:\n",
    "            flag = 1\n",
    "            break\n",
    "            \n",
    "elif key>list1[m]:\n",
    "    for i in range(m+1,len(list1)):\n",
    "        if key == list1[i]:\n",
    "            flag = 1\n",
    "            break\n",
    "\n",
    "if flag == 1:\n",
    "    print(\"element found at position\",list1.index(key)+1)\n",
    "else:\n",
    "    print(\"element not found\")"
   ]
  },
  {
   "cell_type": "markdown",
   "metadata": {},
   "source": [
    "## Sorting\n",
    "### Bubble sort:\n",
    "- Bubble sort is comparison-based algorithm in which each pair of adjacent elements is compared and the elements are swapped if they are not in order.\n",
    "- time complexity is Ο(n^2) where n is the number of items.\n",
    "\n",
    "## Advantgaes\n",
    "- it is best if it is having small data sets\n",
    "- Bubble Sort is the simplest sorting algorithm that works by repeatedly swapping the adjacent elements if they are in wrong order\n",
    "\n",
    "## Disadvantages\n",
    "- This algorithm is not suitable for large data sets as its average and worst case complexity are of Ο(n2) where n is the number of items."
   ]
  },
  {
   "cell_type": "code",
   "execution_count": 22,
   "metadata": {},
   "outputs": [
    {
     "data": {
      "text/plain": [
       "[12, 23, 24, 34, 56, 67, 89]"
      ]
     },
     "execution_count": 22,
     "metadata": {},
     "output_type": "execute_result"
    }
   ],
   "source": [
    "list1 = [34,12,23,56,24,67,89]\n",
    "for i in range(0,len(list1)):\n",
    "    for j in range(i+1,len(list1)):\n",
    "        if list1[i]>list1[j]:\n",
    "            temp = list1[i]\n",
    "            list1[i] = list1[j]\n",
    "            list1[j] = temp\n",
    "            #list1[i],list1[j]= list1[j],list1[i]\n",
    "list1\n"
   ]
  },
  {
   "cell_type": "markdown",
   "metadata": {},
   "source": [
    "### Selection sort:"
   ]
  },
  {
   "cell_type": "code",
   "execution_count": 24,
   "metadata": {},
   "outputs": [
    {
     "data": {
      "text/plain": [
       "[12, 23, 24, 34, 56, 67, 89]"
      ]
     },
     "execution_count": 24,
     "metadata": {},
     "output_type": "execute_result"
    }
   ],
   "source": [
    "c = [34,12,23,56,24,67,89]\n",
    "for i in range(len(c)):\n",
    "    min = i\n",
    "    for j in range(i+1,len(c)):\n",
    "        if(c[j]<c[min]):\n",
    "            min=j\n",
    "    c[i],c[min] = c[min],c[i]\n",
    "c    "
   ]
  },
  {
   "cell_type": "code",
   "execution_count": null,
   "metadata": {},
   "outputs": [],
   "source": []
  }
 ],
 "metadata": {
  "kernelspec": {
   "display_name": "Python 3",
   "language": "python",
   "name": "python3"
  },
  "language_info": {
   "codemirror_mode": {
    "name": "ipython",
    "version": 3
   },
   "file_extension": ".py",
   "mimetype": "text/x-python",
   "name": "python",
   "nbconvert_exporter": "python",
   "pygments_lexer": "ipython3",
   "version": "3.7.3"
  }
 },
 "nbformat": 4,
 "nbformat_minor": 2
}
